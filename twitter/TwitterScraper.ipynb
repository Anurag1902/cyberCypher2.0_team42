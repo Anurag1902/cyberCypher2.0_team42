{
  "cells": [
    {
      "cell_type": "code",
      "execution_count": null,
      "id": "0b391036-0093-4afc-b9fa-18c800a44f8e",
      "metadata": {
        "id": "0b391036-0093-4afc-b9fa-18c800a44f8e",
        "outputId": "0f04c454-97d9-4d4a-f1e3-ebdc5c232e6f"
      },
      "outputs": [
        {
          "name": "stdout",
          "output_type": "stream",
          "text": [
            "Requirement already satisfied: tweepy in c:\\python311\\lib\\site-packages (4.12.1)\n",
            "Requirement already satisfied: oauthlib<4,>=3.2.0 in c:\\python311\\lib\\site-packages (from tweepy) (3.2.2)\n",
            "Requirement already satisfied: requests<3,>=2.27.0 in c:\\python311\\lib\\site-packages (from tweepy) (2.28.1)\n",
            "Requirement already satisfied: requests-oauthlib<2,>=1.2.0 in c:\\python311\\lib\\site-packages (from tweepy) (1.3.1)\n",
            "Requirement already satisfied: charset-normalizer<3,>=2 in c:\\python311\\lib\\site-packages (from requests<3,>=2.27.0->tweepy) (2.1.1)\n",
            "Requirement already satisfied: idna<4,>=2.5 in c:\\python311\\lib\\site-packages (from requests<3,>=2.27.0->tweepy) (3.4)\n",
            "Requirement already satisfied: urllib3<1.27,>=1.21.1 in c:\\python311\\lib\\site-packages (from requests<3,>=2.27.0->tweepy) (1.26.13)\n",
            "Requirement already satisfied: certifi>=2017.4.17 in c:\\python311\\lib\\site-packages (from requests<3,>=2.27.0->tweepy) (2022.12.7)\n",
            "Requirement already satisfied: stop_words in c:\\python311\\lib\\site-packages (2018.7.23)\n"
          ]
        },
        {
          "name": "stderr",
          "output_type": "stream",
          "text": [
            "[nltk_data] Downloading package stopwords to\n",
            "[nltk_data]     C:\\Users\\abhit\\AppData\\Roaming\\nltk_data...\n",
            "[nltk_data]   Package stopwords is already up-to-date!\n"
          ]
        },
        {
          "name": "stdout",
          "output_type": "stream",
          "text": [
            "Requirement already satisfied: vaderSentiment in c:\\python311\\lib\\site-packages (3.3.2)\n",
            "Requirement already satisfied: requests in c:\\python311\\lib\\site-packages (from vaderSentiment) (2.28.1)\n",
            "Requirement already satisfied: charset-normalizer<3,>=2 in c:\\python311\\lib\\site-packages (from requests->vaderSentiment) (2.1.1)\n",
            "Requirement already satisfied: idna<4,>=2.5 in c:\\python311\\lib\\site-packages (from requests->vaderSentiment) (3.4)\n",
            "Requirement already satisfied: urllib3<1.27,>=1.21.1 in c:\\python311\\lib\\site-packages (from requests->vaderSentiment) (1.26.13)\n",
            "Requirement already satisfied: certifi>=2017.4.17 in c:\\python311\\lib\\site-packages (from requests->vaderSentiment) (2022.12.7)\n"
          ]
        }
      ],
      "source": [
        "!pip install tweepy\n",
        "import tweepy\n",
        "import datetime\n",
        "import pytz\n",
        "!pip install stop_words --use-pep517\n",
        "import nltk\n",
        "nltk.download('stopwords')\n",
        "from nltk.corpus import stopwords\n",
        "from nltk.util import ngrams\n",
        "from stop_words import get_stop_words\n",
        "import re\n",
        "!pip install vaderSentiment\n",
        "from vaderSentiment.vaderSentiment import SentimentIntensityAnalyzer\n",
        "from nltk import bigrams"
      ]
    },
    {
      "cell_type": "markdown",
      "id": "556e2e1f-74b9-4810-b991-83ea43765e17",
      "metadata": {
        "jp-MarkdownHeadingCollapsed": true,
        "tags": [],
        "id": "556e2e1f-74b9-4810-b991-83ea43765e17"
      },
      "source": [
        "# For a User Input on stock"
      ]
    },
    {
      "cell_type": "code",
      "execution_count": null,
      "id": "189f02ce-ef33-41fb-befb-4afa460aee0b",
      "metadata": {
        "id": "189f02ce-ef33-41fb-befb-4afa460aee0b"
      },
      "outputs": [],
      "source": [
        "# Set up the API with your Twitter developer account's credentials\n",
        "consumer_key = \"\"\n",
        "consumer_secret = \"\"\n",
        "access_token = \"\"\n",
        "access_token_secret = \"\"\n",
        "\n",
        "auth = tweepy.OAuthHandler(consumer_key, consumer_secret)\n",
        "auth.set_access_token(access_token, access_token_secret)\n",
        "api = tweepy.API(auth)"
      ]
    },
    {
      "cell_type": "code",
      "execution_count": null,
      "id": "48ddc020-1b41-44be-b607-bf07d924ce36",
      "metadata": {
        "id": "48ddc020-1b41-44be-b607-bf07d924ce36",
        "outputId": "6cc650ae-b9fb-48cf-c8e4-fd0f7b8c2794"
      },
      "outputs": [
        {
          "name": "stdin",
          "output_type": "stream",
          "text": [
            "Enter the stock code ZOMATO\n",
            "Enter the stock name Zomato\n"
          ]
        }
      ],
      "source": [
        "stock_ticker = str(input('Enter the stock code'))\n",
        "stock_ticker_full = str(input('Enter the stock name'))\n",
        "stock_hashtag = '#' + stock_ticker"
      ]
    },
    {
      "cell_type": "code",
      "execution_count": null,
      "id": "19df4686-3a59-45c6-bb70-c8e4869426aa",
      "metadata": {
        "id": "19df4686-3a59-45c6-bb70-c8e4869426aa"
      },
      "outputs": [],
      "source": [
        "data = []\n",
        "usernames = [\"wsj\", \"Reuters\", \"business\",\"CNBC\",\"WSJmarkets\",\"livemint\",\n",
        "             \"moneycontrolcom\",\"NDTVProfit\",\"bsindia\",\"FinancialTimes\",\n",
        "             \"ETMarkets\",\"bqprime\",\"Investopedia\",\"BloombergTV\",\"FinancialXpress\",\n",
        "             \"NSEIndia\",\"TOIBusiness\",\"IIFL_Live\",\"elearnmarkets\",\"mystockedge\"]\n",
        "\n",
        "for username in usernames:\n",
        "    tweets = api.user_timeline(screen_name=username, count=100)\n",
        "    for tweet in tweets:\n",
        "        if stock_ticker in tweet.text or stock_ticker_full in tweet.text:\n",
        "            data.append(tweet.text)\n",
        "            \n",
        "tweets = api.search_tweets(q=stock_hashtag, count=100)\n",
        "for tweet in tweets:\n",
        "    data.append(tweet.text)"
      ]
    },
    {
      "cell_type": "code",
      "execution_count": null,
      "id": "734391f5-951e-4d62-a579-3e15daeb8211",
      "metadata": {
        "id": "734391f5-951e-4d62-a579-3e15daeb8211"
      },
      "outputs": [],
      "source": [
        "stop_words = list(stopwords.words('english')) + list(get_stop_words('en'))\n",
        "pattern = '[0-9]'\n",
        "cleaned_data = []\n",
        "\n",
        "def generate_clean_ngrams(tweet_text, n):\n",
        "\n",
        "    tweet_text = tweet_text.lower()\n",
        "    tweet_text = re.sub(r'[^a-zA-Z0-9\\s]', ' ', tweet_text)\n",
        "    tweet_text = re.sub(pattern, 'http', tweet_text)\n",
        "    \n",
        "    tokens = [token for token in tweet_text.split(' ') \n",
        "              if token != '' \n",
        "              and token not in stop_words \n",
        "              and 'http' not in token]\n",
        "    \n",
        "    output = list(ngrams(tokens, n))\n",
        "    \n",
        "    return output\n",
        "\n",
        "for d in data:\n",
        "    cleaned_data.append(generate_clean_ngrams(d, 2))"
      ]
    },
    {
      "cell_type": "code",
      "execution_count": null,
      "id": "aee82307-392c-4e57-86d1-3d9fef335747",
      "metadata": {
        "id": "aee82307-392c-4e57-86d1-3d9fef335747"
      },
      "outputs": [],
      "source": [
        "analyzer = SentimentIntensityAnalyzer()\n",
        "score = []\n",
        "\n",
        "for data in cleaned_data:\n",
        "    for d in data:\n",
        "        bigram_text = \" \".join(d)\n",
        "        scores = analyzer.polarity_scores(bigram_text)\n",
        "        score.append(scores['compound'])"
      ]
    },
    {
      "cell_type": "code",
      "execution_count": null,
      "id": "aacee95e-0579-4cf5-944f-1078082abc7f",
      "metadata": {
        "id": "aacee95e-0579-4cf5-944f-1078082abc7f",
        "outputId": "0c5da604-6445-4a0e-d450-6d2eab28b0cb"
      },
      "outputs": [
        {
          "name": "stdout",
          "output_type": "stream",
          "text": [
            "Sentiment Score for the stock ZOMATO: 0.008237021716649428\n"
          ]
        }
      ],
      "source": [
        "print(f'Sentiment Score for the stock {stock_ticker}: {sum(score)/len(score)}')"
      ]
    },
    {
      "cell_type": "markdown",
      "id": "18855936-8de9-4f27-ba97-507956794155",
      "metadata": {
        "id": "18855936-8de9-4f27-ba97-507956794155"
      },
      "source": [
        "# For NSE top 500"
      ]
    },
    {
      "cell_type": "code",
      "execution_count": null,
      "id": "afb09101-ab85-48cf-9a7b-9190bdfd5dc2",
      "metadata": {
        "id": "afb09101-ab85-48cf-9a7b-9190bdfd5dc2"
      },
      "outputs": [],
      "source": [
        "import pandas as pd\n",
        "import numpy as np"
      ]
    },
    {
      "cell_type": "code",
      "execution_count": null,
      "id": "b25c8952-caf3-46fa-9bc6-8cef32ee68ac",
      "metadata": {
        "id": "b25c8952-caf3-46fa-9bc6-8cef32ee68ac",
        "outputId": "3eb65777-62f1-4922-ee10-dbc17fecc60f"
      },
      "outputs": [
        {
          "data": {
            "text/html": [
              "<div>\n",
              "<style scoped>\n",
              "    .dataframe tbody tr th:only-of-type {\n",
              "        vertical-align: middle;\n",
              "    }\n",
              "\n",
              "    .dataframe tbody tr th {\n",
              "        vertical-align: top;\n",
              "    }\n",
              "\n",
              "    .dataframe thead th {\n",
              "        text-align: right;\n",
              "    }\n",
              "</style>\n",
              "<table border=\"1\" class=\"dataframe\">\n",
              "  <thead>\n",
              "    <tr style=\"text-align: right;\">\n",
              "      <th></th>\n",
              "      <th>Company Name</th>\n",
              "      <th>Symbol</th>\n",
              "    </tr>\n",
              "  </thead>\n",
              "  <tbody>\n",
              "    <tr>\n",
              "      <th>0</th>\n",
              "      <td>3M India Ltd.</td>\n",
              "      <td>3MINDIA</td>\n",
              "    </tr>\n",
              "    <tr>\n",
              "      <th>1</th>\n",
              "      <td>ABB India Ltd.</td>\n",
              "      <td>ABB</td>\n",
              "    </tr>\n",
              "    <tr>\n",
              "      <th>2</th>\n",
              "      <td>ACC Ltd.</td>\n",
              "      <td>ACC</td>\n",
              "    </tr>\n",
              "    <tr>\n",
              "      <th>3</th>\n",
              "      <td>AIA Engineering Ltd.</td>\n",
              "      <td>AIAENG</td>\n",
              "    </tr>\n",
              "    <tr>\n",
              "      <th>4</th>\n",
              "      <td>APL Apollo Tubes Ltd.</td>\n",
              "      <td>APLAPOLLO</td>\n",
              "    </tr>\n",
              "  </tbody>\n",
              "</table>\n",
              "</div>"
            ],
            "text/plain": [
              "            Company Name     Symbol\n",
              "0          3M India Ltd.    3MINDIA\n",
              "1         ABB India Ltd.        ABB\n",
              "2               ACC Ltd.        ACC\n",
              "3   AIA Engineering Ltd.     AIAENG\n",
              "4  APL Apollo Tubes Ltd.  APLAPOLLO"
            ]
          },
          "execution_count": 146,
          "metadata": {},
          "output_type": "execute_result"
        }
      ],
      "source": [
        "nseList= pd.read_csv('C:/Users/abhit/Desktop/COLLEGE/SEM X/SEMX_Git/CC/ind_nifty500list.csv')\n",
        "nseList.head()"
      ]
    },
    {
      "cell_type": "code",
      "execution_count": null,
      "id": "f2762aa4-bb32-4b97-bebc-640a06540c87",
      "metadata": {
        "id": "f2762aa4-bb32-4b97-bebc-640a06540c87"
      },
      "outputs": [],
      "source": [
        "# Set up the API with your Twitter developer account's credentials\n",
        "consumer_key = \"\"\n",
        "consumer_secret = \"\"\n",
        "access_token = \"\"\n",
        "access_token_secret = \"\"\n",
        "\n",
        "auth = tweepy.OAuthHandler(consumer_key, consumer_secret)\n",
        "auth.set_access_token(access_token, access_token_secret)\n",
        "api = tweepy.API(auth)"
      ]
    },
    {
      "cell_type": "code",
      "execution_count": null,
      "id": "fbb01502-d28a-44b5-8f70-591f39477f0e",
      "metadata": {
        "id": "fbb01502-d28a-44b5-8f70-591f39477f0e",
        "outputId": "0397583e-afbf-49b8-bbd4-679f1bdeef2d"
      },
      "outputs": [
        {
          "name": "stderr",
          "output_type": "stream",
          "text": [
            "C:\\Users\\Public\\Documents\\Wondershare\\CreatorTemp\\ipykernel_26204\\571671230.py:1: FutureWarning: The default value of regex will change from True to False in a future version. In addition, single character regular expressions will *not* be treated as literal strings when regex=True.\n",
            "  nseList['Company Name'] = nseList['Company Name'].str.replace('.','')\n"
          ]
        }
      ],
      "source": [
        "nseList['Company Name'] = nseList['Company Name'].str.replace('.','')\n",
        "nseList['Company Name'] = nseList['Company Name'].str.replace('Ltd','')"
      ]
    },
    {
      "cell_type": "code",
      "execution_count": null,
      "id": "d7b580de-22f5-48b9-908c-9543dacb85ab",
      "metadata": {
        "id": "d7b580de-22f5-48b9-908c-9543dacb85ab"
      },
      "outputs": [],
      "source": [
        "data = []\n",
        "usernames = [\"wsj\", \"Reuters\", \"business\",\"CNBC\",\"WSJmarkets\",\"livemint\",\n",
        "             \"moneycontrolcom\",\"NDTVProfit\",\"bsindia\",\"FinancialTimes\",\n",
        "             \"ETMarkets\",\"bqprime\",\"Investopedia\",\"BloombergTV\",\"FinancialXpress\",\n",
        "             \"NSEIndia\",\"TOIBusiness\",\"IIFL_Live\",\"elearnmarkets\",\"mystockedge\"]"
      ]
    },
    {
      "cell_type": "code",
      "execution_count": null,
      "id": "b83b4ea0-e7ae-4cc1-8895-14ede303a45b",
      "metadata": {
        "id": "b83b4ea0-e7ae-4cc1-8895-14ede303a45b",
        "outputId": "aeed0b43-66fc-487b-b9cd-fc261b5f993e"
      },
      "outputs": [
        {
          "name": "stderr",
          "output_type": "stream",
          "text": [
            "C:\\Users\\Public\\Documents\\Wondershare\\CreatorTemp\\ipykernel_26204\\2694705966.py:49: SettingWithCopyWarning: \n",
            "A value is trying to be set on a copy of a slice from a DataFrame\n",
            "\n",
            "See the caveats in the documentation: https://pandas.pydata.org/pandas-docs/stable/user_guide/indexing.html#returning-a-view-versus-a-copy\n",
            "  nseList['Sentiment'][nseList['Symbol'] == stock_ticker] = average_score\n"
          ]
        },
        {
          "name": "stdout",
          "output_type": "stream",
          "text": [
            "Index:  0   3MINDIA :  0.019135483870967734\n",
            "Index:  1   ABB :  0.022205214285714297\n",
            "Index:  2   ACC :  0.0576765065502183\n",
            "Index:  3   AIAENG :  0.058044489795918364\n",
            "Index:  4   APLAPOLLO :  0.04137260147601474\n",
            "Index:  5   AUBANK :  0.0370515690376569\n",
            "Index:  6   AARTIDRUGS :  -0.024600000000000018\n",
            "Index:  7   AAVAS :  0.03237320261437907\n",
            "Index:  8   ABBOTINDIA :  0.015310675381263622\n",
            "Index:  9   ADANIENT :  0.04225381565906827\n",
            "Index:  10   ADANIGREEN :  0.033898474059003085\n",
            "Index:  11   ADANIPORTS :  0.02559132149901383\n",
            "Index:  12   ATGL :  0.027436094674556214\n",
            "Index:  13   ADANITRANS :  0.008110079575596809\n",
            "Index:  14   AWL :  0.04625295095594346\n",
            "Index:  15   ABCAPITAL :  0.028575646551724128\n",
            "Index:  16   ABFRL :  0.03922133971291869\n",
            "Index:  17   ABSLAMC :  0.03495357142857142\n",
            "Index:  18   AEGISCHEM :  0.004453686635944701\n",
            "Index:  19   AETHER :  0.03286536312849162\n",
            "Index:  20   AFFLE :  0.01797924528301887\n",
            "Index:  21   AJANTPHARM :  -0.03176744186046512\n",
            "Index:  22   APLLTD :  -0.008852265861027187\n",
            "Index:  23   ALKEM :  0.0031595744680851068\n",
            "Index:  24   ALKYLAMINE :  -0.051416279069767444\n",
            "Index:  25   ALOKINDS :  -0.051249626865671624\n",
            "Index:  26   AMARAJABAT :  0.009024871794871795\n",
            "Index:  27   AMBER :  0.030857166947723447\n",
            "Index:  28   AMBUJACEM :  -0.006320000000000003\n",
            "Index:  29   ANGELONE :  0.04651289782244549\n",
            "Index:  30   ANURAS :  -0.024071337579617845\n",
            "Index:  31   APOLLOHOSP :  0.028403222222222232\n",
            "Index:  32   APOLLOTYRE :  0.003254948301329391\n",
            "Index:  33   APTUS :  0.014155681818181816\n",
            "Index:  34   ASAHIINDIA :  0.032622222222222226\n",
            "Index:  35   ASHOKLEY :  -0.023352903225806455\n",
            "Index:  36   ASIANPAINT :  0.010243815331010452\n",
            "Index:  37   ASTERDM :  0.0014357142857142871\n",
            "Index:  38   ASTRAZEN :  0.014817599999999995\n",
            "Index:  39   ASTRAL :  0.0207678606965175\n",
            "Index:  40   ATUL :  0.0018178038379530934\n",
            "Index:  41   AUROPHARMA :  -0.004356900212314237\n",
            "Index:  42   AVANTIFEED :  -0.046990476190476194\n",
            "Index:  43   DMART :  0.04136704653371313\n",
            "Index:  44   AXISBANK :  0.05116705298013234\n",
            "Index:  45   BASF :  -0.009938830897703548\n",
            "Index:  46   BEML :  0.00949937499999999\n",
            "Index:  47   BSE :  0.0431979049153908\n",
            "Index:  48   BAJAJ-AUTO :  0.022621012006861077\n",
            "Index:  49   BAJAJELEC :  -0.045533333333333335\n",
            "Index:  50   BAJFINANCE :  0.002631155778894473\n",
            "Index:  51   BAJAJFINSV :  0.014950497017892618\n",
            "Index:  52   BAJAJHLDNG :  0.008813745704467331\n",
            "Index:  53   BALAMINES :  -0.02153596214511042\n",
            "Index:  54   BALKRISIND :  0.01515334281650071\n",
            "Index:  55   BALRAMCHIN :  -0.008550483870967738\n",
            "Index:  56   BANDHANBNK :  -0.00689882491186839\n",
            "Index:  57   BANKBARODA :  0.018783115752828535\n",
            "Index:  58   BANKINDIA :  0.008890000000000004\n",
            "Index:  59   MAHABANK :  0.06438536018590213\n",
            "Index:  60   BATAINDIA :  0.0009467413441955261\n",
            "Index:  61   BAYERCROP :  -0.029166666666666664\n",
            "Index:  62   BERGEPAINT :  -0.006674505928853754\n",
            "Index:  63   BDL :  -0.005722342064714954\n",
            "Index:  64   BEL :  0.021114576033636995\n",
            "Index:  65   BHARATFORG :  -0.008635559566787005\n",
            "Index:  66   BHEL :  0.020480144115292233\n",
            "Index:  67   BPCL :  0.1528725000000007\n",
            "Index:  68   BHARATRAS :  -0.05686785714285715\n",
            "Index:  69   BHARTIARTL :  -0.0034976351351351334\n",
            "Index:  70   BIOCON :  0.0048916423712342064\n",
            "Index:  71   BIRLACORPN :  0.0\n",
            "Index:  72   BSOFT :  0.043341577060931884\n",
            "Index:  73   BLUEDART :  0.003748614609571785\n",
            "Index:  74   BLUESTARCO :  0.004126732673267327\n",
            "Index:  75   BBTC :  0.06799233278955946\n",
            "Index:  76   BORORENEW :  -0.030928301886792457\n",
            "Index:  77   BOSCHLTD :  0.0006679764243614919\n",
            "Index:  78   BRIGADE :  0.02101214230471771\n",
            "Index:  79   BCG :  0.010006166982922195\n",
            "Index:  80   BRITANNIA :  0.02083196300102775\n",
            "Index:  81   MAPMYINDIA :  0.02197216916780354\n",
            "Index:  82   CCL :  0.05422690426275332\n",
            "Index:  83   CESC :  0.033613224637681155\n",
            "Index:  84   CGPOWER :  0.02473677482792529\n",
            "Index:  85   CRISIL :  0.027242161339421606\n",
            "Index:  86   CSBBANK :  0.057890243902439034\n",
            "Index:  87   CAMPUS :  0.035780434782608665\n",
            "Index:  88   CANFINHOME :  0.011363645418326736\n",
            "Index:  89   CANBK :  0.016614202049780362\n",
            "Index:  90   CAPLIPOINT :  0.031102702702702704\n",
            "Index:  91   CGCL :  -0.011148951048951047\n",
            "Index:  92   CARBORUNIV :  0.003996190476190474\n",
            "Index:  93   CASTROLIND :  -0.030355555555555556\n",
            "Index:  94   CEATLTD :  0.027469662921348312\n",
            "Index:  95   CENTRALBK :  0.038245257452574524\n",
            "Index:  96   CDSL :  0.0344506625891947\n",
            "Index:  97   CENTURYPLY :  0.021682075471698113\n",
            "Index:  98   CENTURYTEX :  0.030741552511415533\n",
            "Index:  99   CERA :  0.023634019607843133\n",
            "Index:  100   CHALET :  0.02294621485219898\n",
            "Index:  101   CHAMBLFERT :  -0.0038236702127659563\n",
            "Index:  102   CHEMPLASTS :  -0.003289166666666668\n",
            "Index:  103   CHOLAHLDNG :  0.008972340425531916\n",
            "Index:  104   CHOLAFIN :  0.031783333333333386\n",
            "Index:  105   CIPLA :  0.03246695205479454\n",
            "Index:  106   CUB :  -4.2187500000000124e-05\n",
            "Index:  107   CLEAN :  0.10340258126194998\n",
            "Index:  108   COALINDIA :  0.027050854271356853\n",
            "Index:  109   COCHINSHIP :  -0.0068987499999999995\n",
            "Index:  110   COFORGE :  0.016631704980842914\n",
            "Index:  111   COLPAL :  0.0036799342105263123\n",
            "Index:  112   CAMS :  0.0023231213872832368\n",
            "Index:  113   CONCOR :  0.004366413867822288\n",
            "Index:  114   COROMANDEL :  0.006475650118203315\n",
            "Index:  115   CREDITACC :  0.011560294117647061\n",
            "Index:  116   CROMPTON :  0.025288986354775816\n",
            "Index:  117   CUMMINSIND :  0.019971574178935435\n",
            "Index:  118   CYIENT :  0.04725454545454536\n",
            "Index:  119   DCMSHRIRAM :  0.09624323770491794\n",
            "Index:  120   DLF :  0.0055354781582054435\n",
            "Index:  121   DABUR :  0.04164447463768108\n",
            "Index:  122   DALBHARAT :  0.028265882352941182\n",
            "Index:  123   DEEPAKFERT :  -0.025005701754385955\n",
            "Index:  124   DEEPAKNTR :  -0.0066120643431635375\n",
            "Index:  125   DELHIVERY :  0.025420323741007212\n",
            "Index:  126   DELTACORP :  0.03599844827586204\n",
            "Index:  127   DEVYANI :  0.003104494382022481\n",
            "Index:  128   DHANI :  -0.007926699029126209\n",
            "Index:  129   DBL :  0.03915760151085923\n",
            "Index:  130   DIVISLAB :  0.043839923591212894\n",
            "Index:  131   DIXON :  0.018398480243161094\n",
            "Index:  132   LALPATHLAB :  -0.006490406976744189\n",
            "Index:  133   DRREDDY :  0.021833972602739733\n",
            "Index:  134   EIDPARRY :  0.01117027027027027\n",
            "Index:  135   EIHOTEL :  -0.06556800000000002\n",
            "Index:  136   EPL :  0.040540555058191624\n",
            "Index:  137   EASEMYTRIP :  0.12648639930252825\n",
            "Index:  138   EDELWEISS :  0.01773745098039216\n",
            "Index:  139   EICHERMOT :  0.005035765673175738\n",
            "Index:  140   ELGIEQUIP :  -0.023299999999999994\n",
            "Index:  141   EMAMILTD :  -0.03902857142857143\n",
            "Index:  142   ENDURANCE :  0.053262535477767305\n"
          ]
        },
        {
          "ename": "ZeroDivisionError",
          "evalue": "division by zero",
          "output_type": "error",
          "traceback": [
            "\u001b[1;31m---------------------------------------------------------------------------\u001b[0m",
            "\u001b[1;31mZeroDivisionError\u001b[0m                         Traceback (most recent call last)",
            "Cell \u001b[1;32mIn[156], line 48\u001b[0m\n\u001b[0;32m     45\u001b[0m         scores \u001b[38;5;241m=\u001b[39m analyzer\u001b[38;5;241m.\u001b[39mpolarity_scores(bigram_text)\n\u001b[0;32m     46\u001b[0m         score\u001b[38;5;241m.\u001b[39mappend(scores[\u001b[38;5;124m'\u001b[39m\u001b[38;5;124mcompound\u001b[39m\u001b[38;5;124m'\u001b[39m])\n\u001b[1;32m---> 48\u001b[0m average_score \u001b[38;5;241m=\u001b[39m \u001b[38;5;28;43msum\u001b[39;49m\u001b[43m(\u001b[49m\u001b[43mscore\u001b[49m\u001b[43m)\u001b[49m\u001b[43m \u001b[49m\u001b[38;5;241;43m/\u001b[39;49m\u001b[43m \u001b[49m\u001b[38;5;28;43mlen\u001b[39;49m\u001b[43m(\u001b[49m\u001b[43mscore\u001b[49m\u001b[43m)\u001b[49m\n\u001b[0;32m     49\u001b[0m nseList[\u001b[38;5;124m'\u001b[39m\u001b[38;5;124mSentiment\u001b[39m\u001b[38;5;124m'\u001b[39m][nseList[\u001b[38;5;124m'\u001b[39m\u001b[38;5;124mSymbol\u001b[39m\u001b[38;5;124m'\u001b[39m] \u001b[38;5;241m==\u001b[39m stock_ticker] \u001b[38;5;241m=\u001b[39m average_score\n\u001b[0;32m     50\u001b[0m \u001b[38;5;66;03m#nseList['Sentiment'] = np.where(nseList['Symbol'] == stock_ticker,average_score,0)\u001b[39;00m\n",
            "\u001b[1;31mZeroDivisionError\u001b[0m: division by zero"
          ]
        }
      ],
      "source": [
        "nseList['Sentiment'] = 0\n",
        "for index in nseList.index:\n",
        "    data = []\n",
        "    stock_ticker = nseList['Symbol'][index]\n",
        "    stock_ticker_full = nseList['Company Name'][index]\n",
        "    stock_hashtag = '#' + stock_ticker\n",
        "    \n",
        "    for username in usernames:\n",
        "        tweets = api.user_timeline(screen_name=username, count=100)\n",
        "        for tweet in tweets:\n",
        "            if stock_ticker in tweet.text or stock_ticker_full in tweet.text:\n",
        "                data.append(tweet.text)\n",
        "\n",
        "    tweets = api.search_tweets(q=stock_hashtag, count=100)\n",
        "    for tweet in tweets:\n",
        "        data.append(tweet.text)\n",
        "        \n",
        "    cleaned_data = []\n",
        "    def generate_clean_ngrams(tweet_text, n):\n",
        "        \n",
        "        stop_words = list(stopwords.words('english')) + list(get_stop_words('en'))\n",
        "        pattern = '[0-9]'\n",
        "        \n",
        "        tweet_text = tweet_text.lower()\n",
        "        tweet_text = re.sub(r'[^a-zA-Z0-9\\s]', ' ', tweet_text)\n",
        "        tweet_text = re.sub(pattern, 'http', tweet_text)\n",
        "\n",
        "        tokens = [token for token in tweet_text.split(' ') \n",
        "                  if token != '' \n",
        "                  and token not in stop_words \n",
        "                  and 'http' not in token]\n",
        "\n",
        "        output = list(ngrams(tokens, n))\n",
        "        return output\n",
        "    \n",
        "    for d in data:\n",
        "        cleaned_data.append(generate_clean_ngrams(d, 2))\n",
        "\n",
        "    analyzer = SentimentIntensityAnalyzer()\n",
        "\n",
        "    score = []\n",
        "    for data in cleaned_data:\n",
        "        for d in data:\n",
        "            bigram_text = \" \".join(d)\n",
        "            scores = analyzer.polarity_scores(bigram_text)\n",
        "            score.append(scores['compound'])\n",
        "\n",
        "    average_score = sum(score) / len(score)\n",
        "    nseList['Sentiment'][nseList['Symbol'] == stock_ticker] = average_score\n",
        "    #nseList['Sentiment'] = np.where(nseList['Symbol'] == stock_ticker,average_score,0)\n",
        "    print('Index: ',index,' ',stock_ticker,': ',average_score)"
      ]
    },
    {
      "cell_type": "code",
      "execution_count": null,
      "id": "0bd61485-db32-4619-b75a-f84b7798e4ec",
      "metadata": {
        "id": "0bd61485-db32-4619-b75a-f84b7798e4ec"
      },
      "outputs": [],
      "source": [
        "nseList['Sentiment Group'] = np.where(nseList['Sentiment'] >= 0.05,'Postive Sentiment',nseList['Sentiment'] <= -0.05, 'Negative Sentiment','Neutral Sentiment')"
      ]
    },
    {
      "cell_type": "code",
      "execution_count": null,
      "id": "b7a8baba-c600-4923-92a4-bbe24cfeae01",
      "metadata": {
        "id": "b7a8baba-c600-4923-92a4-bbe24cfeae01"
      },
      "outputs": [],
      "source": [
        "nseList.to_csv('C:/Users/abhit/Desktop/COLLEGE/SEM X/SEMX_Git/CC/submission.csv', index = False)"
      ]
    },
    {
      "cell_type": "code",
      "execution_count": null,
      "id": "fa970001-380a-4dc7-a6c6-a4df2aeb4fd8",
      "metadata": {
        "id": "fa970001-380a-4dc7-a6c6-a4df2aeb4fd8"
      },
      "outputs": [],
      "source": []
    }
  ],
  "metadata": {
    "kernelspec": {
      "display_name": "Python 3 (ipykernel)",
      "language": "python",
      "name": "python3"
    },
    "language_info": {
      "codemirror_mode": {
        "name": "ipython",
        "version": 3
      },
      "file_extension": ".py",
      "mimetype": "text/x-python",
      "name": "python",
      "nbconvert_exporter": "python",
      "pygments_lexer": "ipython3",
      "version": "3.11.0"
    },
    "colab": {
      "provenance": []
    }
  },
  "nbformat": 4,
  "nbformat_minor": 5
}